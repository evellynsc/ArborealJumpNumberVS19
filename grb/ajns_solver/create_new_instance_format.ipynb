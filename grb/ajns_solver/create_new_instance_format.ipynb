{
 "cells": [
  {
   "cell_type": "code",
   "execution_count": 1,
   "metadata": {},
   "outputs": [],
   "source": [
    "import os\n",
    "\n",
    "sop_path = os.path.join(\"a:\", \"users\", \"evellynsc\", \"documents\", \"workspace\", \"instances\" ,\"sop\")\n",
    "dir_files = os.listdir(sop_path)\n",
    "txt_files_path = [os.path.join(sop_path, f) for f in dir_files if \".dot\" not in f and \".txt\" in f]\n",
    "\n",
    "def get_instance_prefix(num_nodes):\n",
    "    if int(num_nodes) < 20:\n",
    "        return \"small\"\n",
    "    elif int(num_nodes) >=20 and int(num_nodes) < 50:\n",
    "        return \"median\"\n",
    "    elif int (num_nodes) >= 50 and int(num_nodes) < 80:\n",
    "        return \"big\"\n",
    "    else:\n",
    "        return \"huge\"\n",
    "\n",
    "for file_path in txt_files_path:\n",
    "    f = open(file_path, 'r')\n",
    "    lines = f.readlines()\n",
    "    num_nodes = lines[0].split(\",\")[0]\n",
    "    lines[0] = f\"1 n {num_nodes}\"\n",
    "    prefix = get_instance_prefix(num_nodes)\n",
    "    file_name = f\"{prefix}-{os.path.basename(file_path)}\"\n",
    "    f.close()\n",
    "    f = open(f\"{os.path.join(sop_path, file_name)}\", 'a')\n",
    "    f.write(\"\\n\".join(lines))\n",
    "    f.close()\n",
    "    \n",
    "\n",
    "\n",
    "\n",
    "\n"
   ]
  },
  {
   "cell_type": "code",
   "execution_count": null,
   "metadata": {},
   "outputs": [],
   "source": []
  }
 ],
 "metadata": {
  "kernelspec": {
   "display_name": "Python 3",
   "language": "python",
   "name": "python3"
  },
  "language_info": {
   "codemirror_mode": {
    "name": "ipython",
    "version": 3
   },
   "file_extension": ".py",
   "mimetype": "text/x-python",
   "name": "python",
   "nbconvert_exporter": "python",
   "pygments_lexer": "ipython3",
   "version": "3.11.6"
  }
 },
 "nbformat": 4,
 "nbformat_minor": 2
}
